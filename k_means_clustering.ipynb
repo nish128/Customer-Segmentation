{
  "nbformat": 4,
  "nbformat_minor": 0,
  "metadata": {
    "colab": {
      "provenance": [],
      "authorship_tag": "ABX9TyNQ1DFtYiJu/YdfzeqPs5xM",
      "include_colab_link": true
    },
    "kernelspec": {
      "name": "python3",
      "display_name": "Python 3"
    },
    "language_info": {
      "name": "python"
    }
  },
  "cells": [
    {
      "cell_type": "markdown",
      "metadata": {
        "id": "view-in-github",
        "colab_type": "text"
      },
      "source": [
        "<a href=\"https://colab.research.google.com/github/nish128/Customer-Segmentation/blob/main/k_means_clustering.ipynb\" target=\"_parent\"><img src=\"https://colab.research.google.com/assets/colab-badge.svg\" alt=\"Open In Colab\"/></a>"
      ]
    },
    {
      "cell_type": "code",
      "execution_count": 10,
      "metadata": {
        "colab": {
          "base_uri": "https://localhost:8080/"
        },
        "id": "ievTNes-zhQA",
        "outputId": "dc7986c0-0b73-4bb0-a317-5c969358ecc3"
      },
      "outputs": [
        {
          "output_type": "stream",
          "name": "stdout",
          "text": [
            "\n",
            " Cluster-wise average RFM values:\n",
            "\n",
            "         Recency  Frequency  Monetary\n",
            "Cluster                              \n",
            "0          21.47       1.23    392.77\n",
            "1         125.41       1.14    391.09\n",
            "2          78.60       4.20   5721.26\n",
            "3         120.00      34.00   5391.21\n",
            "\n",
            " File saved successfully as 'rfm_with_segments.csv'.\n"
          ]
        }
      ],
      "source": [
        "# Step 1: Import required libraries\n",
        "import pandas as pd\n",
        "from sklearn.preprocessing import StandardScaler\n",
        "from sklearn.cluster import KMeans\n",
        "import matplotlib.pyplot as plt\n",
        "import seaborn as sns\n",
        "\n",
        "# Step 2: Load the RFM data\n",
        "df = pd.read_csv('rfm_table.csv')\n",
        "\n",
        "# Step 3: Scale the RFM values\n",
        "scaler = StandardScaler()\n",
        "scaled = scaler.fit_transform(df[['Recency', 'Frequency', 'Monetary']])\n",
        "\n",
        "# Step 4: Apply KMeans clustering\n",
        "kmeans = KMeans(n_clusters=4, random_state=42)\n",
        "df['Cluster'] = kmeans.fit_predict(scaled)\n",
        "\n",
        "# Step 5: Analyze cluster behavior\n",
        "print(\"\\n Cluster-wise average RFM values:\\n\")\n",
        "print(df.groupby('Cluster')[['Recency', 'Frequency', 'Monetary']].mean().round(2))\n",
        "\n",
        "# Step 6: Assign text labels to each cluster (customize as needed)\n",
        "# Adjust these labels after checking the output above\n",
        "segment_map = {\n",
        "    0: 'Loyal High Spender',\n",
        "    1: 'At Risk',\n",
        "    2: 'Low Value',\n",
        "    3: 'Potential Loyalist'\n",
        "}\n",
        "\n",
        "df['Segment'] = df['Cluster'].map(segment_map)\n",
        "\n",
        "# Step 7: Save the final clustered + labeled file\n",
        "df.to_csv('rfm_with_segments.csv', index=False)\n",
        "print(\"\\n File saved successfully as 'rfm_with_segments.csv'.\")\n",
        "\n",
        "\n"
      ]
    },
    {
      "cell_type": "code",
      "source": [],
      "metadata": {
        "id": "Z6s3ZQt61IKO"
      },
      "execution_count": null,
      "outputs": []
    },
    {
      "cell_type": "code",
      "metadata": {
        "id": "f747064a"
      },
      "source": [],
      "execution_count": null,
      "outputs": []
    }
  ]
}