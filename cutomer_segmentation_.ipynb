{
  "nbformat": 4,
  "nbformat_minor": 0,
  "metadata": {
    "colab": {
      "provenance": [],
      "authorship_tag": "ABX9TyMGoIxbz9uKAsGO6W272fbK",
      "include_colab_link": true
    },
    "kernelspec": {
      "name": "python3",
      "display_name": "Python 3"
    },
    "language_info": {
      "name": "python"
    }
  },
  "cells": [
    {
      "cell_type": "markdown",
      "metadata": {
        "id": "view-in-github",
        "colab_type": "text"
      },
      "source": [
        "<a href=\"https://colab.research.google.com/github/nish128/Customer-Segmentation/blob/main/cutomer_segmentation_.ipynb\" target=\"_parent\"><img src=\"https://colab.research.google.com/assets/colab-badge.svg\" alt=\"Open In Colab\"/></a>"
      ]
    },
    {
      "cell_type": "code",
      "source": [
        "#step 1 : import libraries\n",
        "import pandas as pd\n",
        "#step 2 : load data\n",
        "df = pd.read_csv('E-Commerce data.csv')\n",
        "#step 3 : show first five rows\n",
        "print('First Five Rows are:')\n",
        "print(df.head())\n",
        "#step 4 : show last five rows\n",
        "print('Last Five Rows are:')\n",
        "print(df.tail())\n",
        "#step 5 : show random rows\n",
        "print('Random Rows are:')\n",
        "print(df.sample(5))\n",
        "#step 6 : basic information\n",
        "print(df.info())\n",
        "# all statistic information\n",
        "print(df.describe())\n",
        "\n",
        "\n"
      ],
      "metadata": {
        "colab": {
          "base_uri": "https://localhost:8080/"
        },
        "id": "QMd-A7Ek4c2_",
        "outputId": "18aacf2c-6da8-4010-9e87-8b62ea161bad"
      },
      "execution_count": 20,
      "outputs": [
        {
          "output_type": "stream",
          "name": "stdout",
          "text": [
            "First Five Rows are:\n",
            "  InvoiceNo StockCode                          Description  Quantity  \\\n",
            "0    536365    85123A   WHITE HANGING HEART T-LIGHT HOLDER         6   \n",
            "1    536365     71053                  WHITE METAL LANTERN         6   \n",
            "2    536365    84406B       CREAM CUPID HEARTS COAT HANGER         8   \n",
            "3    536365    84029G  KNITTED UNION FLAG HOT WATER BOTTLE         6   \n",
            "4    536365    84029E       RED WOOLLY HOTTIE WHITE HEART.         6   \n",
            "\n",
            "           InvoiceDate  UnitPrice  CustomerID         Country  \n",
            "0  01/12/2010 08:26:00       2.55     17850.0  United Kingdom  \n",
            "1  01/12/2010 08:26:00       3.39     17850.0  United Kingdom  \n",
            "2  01/12/2010 08:26:00       2.75     17850.0  United Kingdom  \n",
            "3  01/12/2010 08:26:00       3.39     17850.0  United Kingdom  \n",
            "4  01/12/2010 08:26:00       3.39     17850.0  United Kingdom  \n",
            "Last Five Rows are:\n",
            "       InvoiceNo StockCode                      Description  Quantity  \\\n",
            "541904    581587     22613      PACK OF 20 SPACEBOY NAPKINS        12   \n",
            "541905    581587     22899     CHILDREN'S APRON DOLLY GIRL          6   \n",
            "541906    581587     23254    CHILDRENS CUTLERY DOLLY GIRL          4   \n",
            "541907    581587     23255  CHILDRENS CUTLERY CIRCUS PARADE         4   \n",
            "541908    581587     22138    BAKING SET 9 PIECE RETROSPOT          3   \n",
            "\n",
            "                InvoiceDate  UnitPrice  CustomerID Country  \n",
            "541904  09/12/2011 12:50:00       0.85     12680.0  France  \n",
            "541905  09/12/2011 12:50:00       2.10     12680.0  France  \n",
            "541906  09/12/2011 12:50:00       4.15     12680.0  France  \n",
            "541907  09/12/2011 12:50:00       4.15     12680.0  France  \n",
            "541908  09/12/2011 12:50:00       4.95     12680.0  France  \n",
            "Random Rows are:\n",
            "       InvoiceNo StockCode                   Description  Quantity  \\\n",
            "207898    555015     23007        SPACEBOY BABY GIFT SET         1   \n",
            "9625      537208     21034  REX CASH+CARRY JUMBO SHOPPER         1   \n",
            "207526    554992     22563           HAPPY STENCIL CRAFT         2   \n",
            "391247    570663     23129     HEART SHAPED HOLLY WREATH         4   \n",
            "299986    563188     22728     ALARM CLOCK BAKELIKE PINK        12   \n",
            "\n",
            "                InvoiceDate  UnitPrice  CustomerID         Country  \n",
            "207898      5/31/2011 10:45      16.95     16558.0  United Kingdom  \n",
            "9625    05/12/2010 15:12:00       0.95     15889.0  United Kingdom  \n",
            "207526      5/29/2011 14:08       1.25     16686.0  United Kingdom  \n",
            "391247  11/10/2011 14:20:00       4.15     13627.0  United Kingdom  \n",
            "299986  12/08/2011 15:00:00       3.75     15606.0  United Kingdom  \n",
            "<class 'pandas.core.frame.DataFrame'>\n",
            "RangeIndex: 541909 entries, 0 to 541908\n",
            "Data columns (total 8 columns):\n",
            " #   Column       Non-Null Count   Dtype  \n",
            "---  ------       --------------   -----  \n",
            " 0   InvoiceNo    541909 non-null  object \n",
            " 1   StockCode    541909 non-null  object \n",
            " 2   Description  540455 non-null  object \n",
            " 3   Quantity     541909 non-null  int64  \n",
            " 4   InvoiceDate  541909 non-null  object \n",
            " 5   UnitPrice    541909 non-null  float64\n",
            " 6   CustomerID   406829 non-null  float64\n",
            " 7   Country      541909 non-null  object \n",
            "dtypes: float64(2), int64(1), object(5)\n",
            "memory usage: 33.1+ MB\n",
            "None\n",
            "            Quantity      UnitPrice     CustomerID\n",
            "count  541909.000000  541909.000000  406829.000000\n",
            "mean        9.552250       4.611114   15287.690570\n",
            "std       218.081158      96.759853    1713.600303\n",
            "min    -80995.000000  -11062.060000   12346.000000\n",
            "25%         1.000000       1.250000   13953.000000\n",
            "50%         3.000000       2.080000   15152.000000\n",
            "75%        10.000000       4.130000   16791.000000\n",
            "max     80995.000000   38970.000000   18287.000000\n"
          ]
        }
      ]
    },
    {
      "cell_type": "code",
      "source": [],
      "metadata": {
        "id": "8pkmv59S_7Ed"
      },
      "execution_count": null,
      "outputs": []
    }
  ]
}