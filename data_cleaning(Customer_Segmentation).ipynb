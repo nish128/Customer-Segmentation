{
  "nbformat": 4,
  "nbformat_minor": 0,
  "metadata": {
    "colab": {
      "provenance": [],
      "authorship_tag": "ABX9TyMDwTmpPs5PARN0rVkFIfWA",
      "include_colab_link": true
    },
    "kernelspec": {
      "name": "python3",
      "display_name": "Python 3"
    },
    "language_info": {
      "name": "python"
    }
  },
  "cells": [
    {
      "cell_type": "markdown",
      "metadata": {
        "id": "view-in-github",
        "colab_type": "text"
      },
      "source": [
        "<a href=\"https://colab.research.google.com/github/nish128/Customer-Segmentation/blob/main/data_cleaning(Customer_Segmentation).ipynb\" target=\"_parent\"><img src=\"https://colab.research.google.com/assets/colab-badge.svg\" alt=\"Open In Colab\"/></a>"
      ]
    },
    {
      "cell_type": "code",
      "execution_count": null,
      "metadata": {
        "colab": {
          "base_uri": "https://localhost:8080/"
        },
        "id": "rQQt2M3w3P7S",
        "outputId": "322ba71c-bccf-476a-f53f-469d52c0a849"
      },
      "outputs": [
        {
          "output_type": "stream",
          "name": "stdout",
          "text": [
            "The missing values are:\n",
            "InvoiceNo         0\n",
            "StockCode         0\n",
            "Description      43\n",
            "Quantity          0\n",
            "InvoiceDate       0\n",
            "UnitPrice         1\n",
            "CustomerID     3504\n",
            "Country           1\n",
            "dtype: int64\n",
            "After removing missing CustomerIDs: (8520, 8)\n",
            "After removing negative quantities: (8415, 8)\n",
            "After removing invalid UnitPrices: (8414, 8)\n",
            "\n",
            " Cleaned Data Overview:\n",
            "<class 'pandas.core.frame.DataFrame'>\n",
            "Index: 8414 entries, 0 to 12022\n",
            "Data columns (total 8 columns):\n",
            " #   Column       Non-Null Count  Dtype         \n",
            "---  ------       --------------  -----         \n",
            " 0   InvoiceNo    8414 non-null   object        \n",
            " 1   StockCode    8414 non-null   object        \n",
            " 2   Description  8414 non-null   object        \n",
            " 3   Quantity     8414 non-null   int64         \n",
            " 4   InvoiceDate  8414 non-null   datetime64[ns]\n",
            " 5   UnitPrice    8414 non-null   float64       \n",
            " 6   CustomerID   8414 non-null   float64       \n",
            " 7   Country      8414 non-null   object        \n",
            "dtypes: datetime64[ns](1), float64(2), int64(1), object(4)\n",
            "memory usage: 591.6+ KB\n",
            "None\n"
          ]
        }
      ],
      "source": [
        "#step 1 : import libraries\n",
        "import pandas as pd\n",
        "#step 2 : upload dataset\n",
        "df = pd.read_csv('E-Commerce data.csv', encoding='ISO-8859-1')\n",
        "#check if there are any missing value\n",
        "print('The missing values are:' )\n",
        "print(df.isnull().sum())\n",
        "#Drop rows with missing CustomerID\n",
        "df.dropna(subset=['CustomerID'], inplace=True)\n",
        "print(\"After removing missing CustomerIDs:\", df.shape)\n",
        "#Remove negative or zero quantities (cancelled orders)\n",
        "df = df[df['Quantity'] > 0]\n",
        "print(\"After removing negative quantities:\", df.shape)\n",
        "#Remove rows with UnitPrice <= 0\n",
        "df = df[df['UnitPrice'] > 0]\n",
        "print(\"After removing invalid UnitPrices:\", df.shape)\n",
        "#Convert InvoiceDate to datetime format\n",
        "df['InvoiceDate'] = pd.to_datetime(df['InvoiceDate'], format='mixed')\n",
        "# Print final info\n",
        "print(\"\\n Cleaned Data Overview:\")\n",
        "print(df.info())\n",
        "df.sample()\n",
        "df.to_csv('cleaned_data.csv', index=False)\n"
      ]
    },
    {
      "cell_type": "code",
      "source": [],
      "metadata": {
        "id": "u7yu-SJ-4ML9"
      },
      "execution_count": null,
      "outputs": []
    }
  ]
}