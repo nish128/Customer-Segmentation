{
  "nbformat": 4,
  "nbformat_minor": 0,
  "metadata": {
    "colab": {
      "provenance": [],
      "authorship_tag": "ABX9TyNLOnxmTHoMulTBwdGeeO/G",
      "include_colab_link": true
    },
    "kernelspec": {
      "name": "python3",
      "display_name": "Python 3"
    },
    "language_info": {
      "name": "python"
    }
  },
  "cells": [
    {
      "cell_type": "markdown",
      "metadata": {
        "id": "view-in-github",
        "colab_type": "text"
      },
      "source": [
        "<a href=\"https://colab.research.google.com/github/nish128/Customer-Segmentation/blob/main/rfm_feature_creation.ipynb\" target=\"_parent\"><img src=\"https://colab.research.google.com/assets/colab-badge.svg\" alt=\"Open In Colab\"/></a>"
      ]
    },
    {
      "cell_type": "markdown",
      "source": [
        "Recency: Days since the customer last purchased\n",
        "\n",
        "Frequency: How often they bought (unique invoices)\n",
        "\n",
        "Monetary: Total money they spent\n",
        "\n"
      ],
      "metadata": {
        "id": "MofFnZz1waSD"
      }
    },
    {
      "cell_type": "code",
      "execution_count": 5,
      "metadata": {
        "colab": {
          "base_uri": "https://localhost:8080/"
        },
        "id": "up-6z9gbwQ7k",
        "outputId": "0aa4df28-8b8e-4abd-d78b-a55d855d0f08"
      },
      "outputs": [
        {
          "output_type": "stream",
          "name": "stdout",
          "text": [
            "   CustomerID  Recency  Frequency  Monetary\n",
            "0     12346.0      269          1  77183.60\n",
            "1     12347.0      260          1    475.39\n",
            "2     12348.0       19          3   1430.24\n",
            "3     12352.0       15          5   1209.66\n",
            "4     12353.0      147          1     89.00\n",
            "✅ RFM table saved as 'RFM_Table.csv'\n",
            "Expected rows in RFM table: 3806\n"
          ]
        }
      ],
      "source": [
        "#import libraries\n",
        "import pandas as pd\n",
        "from datetime import datetime\n",
        "\n",
        "# Step 1: Load data\n",
        "df = pd.read_csv(\"E-Commerce data.csv\", encoding='ISO-8859-1')\n",
        "\n",
        "# Step 2: Data Cleaning\n",
        "df = df[df['CustomerID'].notnull()]                # Remove missing CustomerID\n",
        "df = df[df['Quantity'] > 0]                        # Remove negative quantities\n",
        "df = df[df['UnitPrice'] > 0]                       # Remove zero/negative prices\n",
        "# Convert date with specified format, coercing errors\n",
        "df['InvoiceDate'] = pd.to_datetime(df['InvoiceDate'], format='%m/%d/%Y %H:%M', errors='coerce')\n",
        "df.dropna(subset=['InvoiceDate'], inplace=True) # Remove rows where InvoiceDate is NaT\n",
        "df['TotalPrice'] = df['Quantity'] * df['UnitPrice']    # Create TotalPrice column\n",
        "\n",
        "# Step 3: Define Reference Date (e.g., 1 day after last transaction)\n",
        "reference_date = df['InvoiceDate'].max() + pd.Timedelta(days=1)\n",
        "\n",
        "# Step 4: RFM Calculation (grouped by CustomerID)\n",
        "rfm = df.groupby('CustomerID').agg({\n",
        "    'InvoiceDate': lambda x: (reference_date - x.max()).days,  # Recency\n",
        "    'InvoiceNo': 'nunique',                                     # Frequency\n",
        "    'TotalPrice': 'sum'                                         # Monetary\n",
        "}).reset_index()\n",
        "\n",
        "# Step 5: Rename Columns\n",
        "rfm.columns = ['CustomerID', 'Recency', 'Frequency', 'Monetary']\n",
        "\n",
        "# Step 6: View and Save\n",
        "print(rfm.head())\n",
        "rfm.to_csv(\"RFM_Table.csv\", index=False)\n",
        "print(\"✅ RFM table saved as 'RFM_Table.csv'\")\n",
        "\n",
        "\n"
      ]
    },
    {
      "cell_type": "code",
      "source": [],
      "metadata": {
        "id": "Lc2FhSfqw-bf"
      },
      "execution_count": null,
      "outputs": []
    }
  ]
}